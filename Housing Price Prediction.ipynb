{
 "cells": [
  {
   "cell_type": "code",
   "execution_count": 1,
   "id": "a712984f",
   "metadata": {},
   "outputs": [
    {
     "name": "stderr",
     "output_type": "stream",
     "text": [
      "/home/wee/Desktop/Github/store_sales_forecast/lib/python3.8/site-packages/xgboost/compat.py:36: FutureWarning: pandas.Int64Index is deprecated and will be removed from pandas in a future version. Use pandas.Index with the appropriate dtype instead.\n",
      "  from pandas import MultiIndex, Int64Index\n"
     ]
    }
   ],
   "source": [
    "import pandas as pd\n",
    "import numpy as np\n",
    "from sklearn.preprocessing import OrdinalEncoder, OneHotEncoder, MinMaxScaler\n",
    "from sklearn.model_selection import train_test_split, GridSearchCV\n",
    "from sklearn.pipeline import make_pipeline\n",
    "from sklearn.metrics import mean_squared_error, make_scorer\n",
    "from sklearn.ensemble import RandomForestRegressor\n",
    "from sklearn.preprocessing import PolynomialFeatures\n",
    "from sklearn.linear_model import Lasso, Ridge, HuberRegressor, LinearRegression\n",
    "from sklearn.svm import SVR\n",
    "from xgboost import XGBRegressor\n",
    "import catboost as cb\n",
    "from mlxtend.regressor import StackingCVRegressor\n",
    "from lightgbm import LGBMRegressor\n",
    "from sklearn.preprocessing import PolynomialFeatures\n",
    "import warnings\n",
    "warnings.filterwarnings(\"ignore\")"
   ]
  },
  {
   "cell_type": "code",
   "execution_count": 2,
   "id": "41dbbe24",
   "metadata": {},
   "outputs": [],
   "source": [
    "df = pd.read_csv('train.csv')\n",
    "test = pd.read_csv('test.csv')"
   ]
  },
  {
   "cell_type": "code",
   "execution_count": 3,
   "id": "71f510f7",
   "metadata": {},
   "outputs": [
    {
     "name": "stdout",
     "output_type": "stream",
     "text": [
      "Null columns in train dataset\n",
      "float64 LotFrontage 259\n",
      "object Alley 1369\n",
      "object MasVnrType 8\n",
      "float64 MasVnrArea 8\n",
      "object BsmtQual 37\n",
      "object BsmtCond 37\n",
      "object BsmtExposure 38\n",
      "object BsmtFinType1 37\n",
      "object BsmtFinType2 38\n",
      "object Electrical 1\n",
      "object FireplaceQu 690\n",
      "object GarageType 81\n",
      "float64 GarageYrBlt 81\n",
      "object GarageFinish 81\n",
      "object GarageQual 81\n",
      "object GarageCond 81\n",
      "object PoolQC 1453\n",
      "object Fence 1179\n",
      "object MiscFeature 1406\n"
     ]
    }
   ],
   "source": [
    "print(\"Null columns in train dataset\")\n",
    "for col in df.columns:\n",
    "    null = df[col].isnull().sum()\n",
    "    if null != 0:\n",
    "        print(df[col].dtypes,col, null)"
   ]
  },
  {
   "cell_type": "code",
   "execution_count": 4,
   "id": "be4d6a64",
   "metadata": {},
   "outputs": [
    {
     "name": "stdout",
     "output_type": "stream",
     "text": [
      "Null columns in test dataset\n",
      "object MSZoning 4\n",
      "float64 LotFrontage 227\n",
      "object Alley 1352\n",
      "object Utilities 2\n",
      "object Exterior1st 1\n",
      "object Exterior2nd 1\n",
      "object MasVnrType 16\n",
      "float64 MasVnrArea 15\n",
      "object BsmtQual 44\n",
      "object BsmtCond 45\n",
      "object BsmtExposure 44\n",
      "object BsmtFinType1 42\n",
      "float64 BsmtFinSF1 1\n",
      "object BsmtFinType2 42\n",
      "float64 BsmtFinSF2 1\n",
      "float64 BsmtUnfSF 1\n",
      "float64 TotalBsmtSF 1\n",
      "float64 BsmtFullBath 2\n",
      "float64 BsmtHalfBath 2\n",
      "object KitchenQual 1\n",
      "object Functional 2\n",
      "object FireplaceQu 730\n",
      "object GarageType 76\n",
      "float64 GarageYrBlt 78\n",
      "object GarageFinish 78\n",
      "float64 GarageCars 1\n",
      "float64 GarageArea 1\n",
      "object GarageQual 78\n",
      "object GarageCond 78\n",
      "object PoolQC 1456\n",
      "object Fence 1169\n",
      "object MiscFeature 1408\n",
      "object SaleType 1\n"
     ]
    }
   ],
   "source": [
    "print(\"Null columns in test dataset\")\n",
    "for col in test.columns:\n",
    "    null = test[col].isnull().sum()\n",
    "    if null != 0:\n",
    "        print(test[col].dtypes, col, null)"
   ]
  },
  {
   "cell_type": "code",
   "execution_count": 5,
   "id": "931baf9f",
   "metadata": {},
   "outputs": [],
   "source": [
    "y = df['SalePrice']\n",
    "df = df.drop(['SalePrice'],axis=1)\n",
    "df = df.set_index('Id')\n",
    "test = test.set_index('Id')"
   ]
  },
  {
   "cell_type": "code",
   "execution_count": 6,
   "id": "160c79bf",
   "metadata": {},
   "outputs": [],
   "source": [
    "a = pd.concat([df,test],axis=0)\n",
    "df = a.reset_index(drop=True)"
   ]
  },
  {
   "cell_type": "code",
   "execution_count": 7,
   "id": "fd9d4039",
   "metadata": {},
   "outputs": [
    {
     "name": "stdout",
     "output_type": "stream",
     "text": [
      "\n",
      " Categorical variables:\n",
      "['MSZoning', 'Street', 'Alley', 'LotShape', 'LandContour', 'Utilities', 'LotConfig', 'LandSlope', 'Neighborhood', 'Condition1', 'Condition2', 'BldgType', 'HouseStyle', 'RoofStyle', 'RoofMatl', 'Exterior1st', 'Exterior2nd', 'MasVnrType', 'ExterQual', 'ExterCond', 'Foundation', 'BsmtQual', 'BsmtCond', 'BsmtExposure', 'BsmtFinType1', 'BsmtFinType2', 'Heating', 'HeatingQC', 'CentralAir', 'Electrical', 'KitchenQual', 'Functional', 'FireplaceQu', 'GarageType', 'GarageFinish', 'GarageQual', 'GarageCond', 'PavedDrive', 'PoolQC', 'Fence', 'MiscFeature', 'SaleType', 'SaleCondition']\n",
      "\n",
      "MSZoning\n",
      "Number of categories: 6\n",
      "['RL' 'RM' 'C (all)' 'FV' 'RH' nan]\n",
      "\n",
      "Street\n",
      "Number of categories: 2\n",
      "['Pave' 'Grvl']\n",
      "\n",
      "Alley\n",
      "Number of categories: 3\n",
      "[nan 'Grvl' 'Pave']\n",
      "\n",
      "LotShape\n",
      "Number of categories: 4\n",
      "['Reg' 'IR1' 'IR2' 'IR3']\n",
      "\n",
      "LandContour\n",
      "Number of categories: 4\n",
      "['Lvl' 'Bnk' 'Low' 'HLS']\n",
      "\n",
      "Utilities\n",
      "Number of categories: 3\n",
      "['AllPub' 'NoSeWa' nan]\n",
      "\n",
      "LotConfig\n",
      "Number of categories: 5\n",
      "['Inside' 'FR2' 'Corner' 'CulDSac' 'FR3']\n",
      "\n",
      "LandSlope\n",
      "Number of categories: 3\n",
      "['Gtl' 'Mod' 'Sev']\n",
      "\n",
      "Neighborhood\n",
      "Number of categories: 25\n",
      "['CollgCr' 'Veenker' 'Crawfor' 'NoRidge' 'Mitchel' 'Somerst' 'NWAmes'\n",
      " 'OldTown' 'BrkSide' 'Sawyer' 'NridgHt' 'NAmes' 'SawyerW' 'IDOTRR'\n",
      " 'MeadowV' 'Edwards' 'Timber' 'Gilbert' 'StoneBr' 'ClearCr' 'NPkVill'\n",
      " 'Blmngtn' 'BrDale' 'SWISU' 'Blueste']\n",
      "\n",
      "Condition1\n",
      "Number of categories: 9\n",
      "['Norm' 'Feedr' 'PosN' 'Artery' 'RRAe' 'RRNn' 'RRAn' 'PosA' 'RRNe']\n",
      "\n",
      "Condition2\n",
      "Number of categories: 8\n",
      "['Norm' 'Artery' 'RRNn' 'Feedr' 'PosN' 'PosA' 'RRAn' 'RRAe']\n",
      "\n",
      "BldgType\n",
      "Number of categories: 5\n",
      "['1Fam' '2fmCon' 'Duplex' 'TwnhsE' 'Twnhs']\n",
      "\n",
      "HouseStyle\n",
      "Number of categories: 8\n",
      "['2Story' '1Story' '1.5Fin' '1.5Unf' 'SFoyer' 'SLvl' '2.5Unf' '2.5Fin']\n",
      "\n",
      "RoofStyle\n",
      "Number of categories: 6\n",
      "['Gable' 'Hip' 'Gambrel' 'Mansard' 'Flat' 'Shed']\n",
      "\n",
      "RoofMatl\n",
      "Number of categories: 8\n",
      "['CompShg' 'WdShngl' 'Metal' 'WdShake' 'Membran' 'Tar&Grv' 'Roll'\n",
      " 'ClyTile']\n",
      "\n",
      "Exterior1st\n",
      "Number of categories: 16\n",
      "['VinylSd' 'MetalSd' 'Wd Sdng' 'HdBoard' 'BrkFace' 'WdShing' 'CemntBd'\n",
      " 'Plywood' 'AsbShng' 'Stucco' 'BrkComm' 'AsphShn' 'Stone' 'ImStucc'\n",
      " 'CBlock' nan]\n",
      "\n",
      "Exterior2nd\n",
      "Number of categories: 17\n",
      "['VinylSd' 'MetalSd' 'Wd Shng' 'HdBoard' 'Plywood' 'Wd Sdng' 'CmentBd'\n",
      " 'BrkFace' 'Stucco' 'AsbShng' 'Brk Cmn' 'ImStucc' 'AsphShn' 'Stone'\n",
      " 'Other' 'CBlock' nan]\n",
      "\n",
      "MasVnrType\n",
      "Number of categories: 5\n",
      "['BrkFace' 'None' 'Stone' 'BrkCmn' nan]\n",
      "\n",
      "ExterQual\n",
      "Number of categories: 4\n",
      "['Gd' 'TA' 'Ex' 'Fa']\n",
      "\n",
      "ExterCond\n",
      "Number of categories: 5\n",
      "['TA' 'Gd' 'Fa' 'Po' 'Ex']\n",
      "\n",
      "Foundation\n",
      "Number of categories: 6\n",
      "['PConc' 'CBlock' 'BrkTil' 'Wood' 'Slab' 'Stone']\n",
      "\n",
      "BsmtQual\n",
      "Number of categories: 5\n",
      "['Gd' 'TA' 'Ex' nan 'Fa']\n",
      "\n",
      "BsmtCond\n",
      "Number of categories: 5\n",
      "['TA' 'Gd' nan 'Fa' 'Po']\n",
      "\n",
      "BsmtExposure\n",
      "Number of categories: 5\n",
      "['No' 'Gd' 'Mn' 'Av' nan]\n",
      "\n",
      "BsmtFinType1\n",
      "Number of categories: 7\n",
      "['GLQ' 'ALQ' 'Unf' 'Rec' 'BLQ' nan 'LwQ']\n",
      "\n",
      "BsmtFinType2\n",
      "Number of categories: 7\n",
      "['Unf' 'BLQ' nan 'ALQ' 'Rec' 'LwQ' 'GLQ']\n",
      "\n",
      "Heating\n",
      "Number of categories: 6\n",
      "['GasA' 'GasW' 'Grav' 'Wall' 'OthW' 'Floor']\n",
      "\n",
      "HeatingQC\n",
      "Number of categories: 5\n",
      "['Ex' 'Gd' 'TA' 'Fa' 'Po']\n",
      "\n",
      "CentralAir\n",
      "Number of categories: 2\n",
      "['Y' 'N']\n",
      "\n",
      "Electrical\n",
      "Number of categories: 6\n",
      "['SBrkr' 'FuseF' 'FuseA' 'FuseP' 'Mix' nan]\n",
      "\n",
      "KitchenQual\n",
      "Number of categories: 5\n",
      "['Gd' 'TA' 'Ex' 'Fa' nan]\n",
      "\n",
      "Functional\n",
      "Number of categories: 8\n",
      "['Typ' 'Min1' 'Maj1' 'Min2' 'Mod' 'Maj2' 'Sev' nan]\n",
      "\n",
      "FireplaceQu\n",
      "Number of categories: 6\n",
      "[nan 'TA' 'Gd' 'Fa' 'Ex' 'Po']\n",
      "\n",
      "GarageType\n",
      "Number of categories: 7\n",
      "['Attchd' 'Detchd' 'BuiltIn' 'CarPort' nan 'Basment' '2Types']\n",
      "\n",
      "GarageFinish\n",
      "Number of categories: 4\n",
      "['RFn' 'Unf' 'Fin' nan]\n",
      "\n",
      "GarageQual\n",
      "Number of categories: 6\n",
      "['TA' 'Fa' 'Gd' nan 'Ex' 'Po']\n",
      "\n",
      "GarageCond\n",
      "Number of categories: 6\n",
      "['TA' 'Fa' nan 'Gd' 'Po' 'Ex']\n",
      "\n",
      "PavedDrive\n",
      "Number of categories: 3\n",
      "['Y' 'N' 'P']\n",
      "\n",
      "PoolQC\n",
      "Number of categories: 4\n",
      "[nan 'Ex' 'Fa' 'Gd']\n",
      "\n",
      "Fence\n",
      "Number of categories: 5\n",
      "[nan 'MnPrv' 'GdWo' 'GdPrv' 'MnWw']\n",
      "\n",
      "MiscFeature\n",
      "Number of categories: 5\n",
      "[nan 'Shed' 'Gar2' 'Othr' 'TenC']\n",
      "\n",
      "SaleType\n",
      "Number of categories: 10\n",
      "['WD' 'New' 'COD' 'ConLD' 'ConLI' 'CWD' 'ConLw' 'Con' 'Oth' nan]\n",
      "\n",
      "SaleCondition\n",
      "Number of categories: 6\n",
      "['Normal' 'Abnorml' 'Partial' 'AdjLand' 'Alloca' 'Family']\n"
     ]
    }
   ],
   "source": [
    "# Get list of categorical variables in holiday dataset\n",
    "s = (df.dtypes == 'object')\n",
    "object_cols = list(s[s].index)\n",
    "print(\"\\n Categorical variables:\")\n",
    "print(object_cols)\n",
    "for col in df[object_cols]:\n",
    "        print(\"\\n\"+col)\n",
    "        print('Number of categories: '+str(len(df[col].unique())))\n",
    "        print(df[col].unique())\n",
    "            "
   ]
  },
  {
   "cell_type": "code",
   "execution_count": 8,
   "id": "71c3b904",
   "metadata": {},
   "outputs": [],
   "source": [
    "low_cardinality_cols=[]\n",
    "med_cardinality_cols=[]\n",
    "for col in df[object_cols]:\n",
    "    if len(df[col].unique())<=10:\n",
    "        low_cardinality_cols.append(col)\n",
    "    elif len(df[col].unique())>10:\n",
    "        med_cardinality_cols.append(col)"
   ]
  },
  {
   "cell_type": "code",
   "execution_count": 9,
   "id": "2b33b424",
   "metadata": {},
   "outputs": [],
   "source": [
    "for col in df[df.columns]:\n",
    "    if col not in object_cols:\n",
    "        scaler = MinMaxScaler()\n",
    "        df[col] = scaler.fit_transform(df[[col]])"
   ]
  },
  {
   "cell_type": "code",
   "execution_count": 10,
   "id": "0a55e581",
   "metadata": {},
   "outputs": [],
   "source": [
    "# One Hot Encoding for Low Cardinality Columns\n",
    "OH_encoder = OneHotEncoder(handle_unknown='ignore', sparse=False)\n",
    "OH_cols = pd.DataFrame(OH_encoder.fit_transform(df[low_cardinality_cols]))\n",
    "OH_cols.index = df.index\n",
    "OH_cols.columns = OH_encoder.get_feature_names(low_cardinality_cols)\n",
    "df = df.drop(low_cardinality_cols, axis=1)\n",
    "df = pd.concat([df, OH_cols], axis=1)\n",
    "\n",
    "# Ordinal Encoding for Medium Cardinality Columns\n",
    "label_encoder = OrdinalEncoder()\n",
    "df[med_cardinality_cols] = label_encoder.fit_transform(df[med_cardinality_cols])"
   ]
  },
  {
   "cell_type": "code",
   "execution_count": 11,
   "id": "6af9533b",
   "metadata": {},
   "outputs": [
    {
     "name": "stdout",
     "output_type": "stream",
     "text": [
      "float64 LotFrontage 486\n",
      "float64 Exterior1st 1\n",
      "float64 Exterior2nd 1\n",
      "float64 MasVnrArea 21\n",
      "float64 BsmtFinSF1 1\n",
      "float64 BsmtFinSF2 1\n",
      "float64 BsmtUnfSF 1\n",
      "float64 TotalBsmtSF 1\n",
      "float64 BsmtFullBath 2\n",
      "float64 BsmtHalfBath 2\n",
      "float64 GarageYrBlt 152\n",
      "float64 GarageCars 1\n",
      "float64 GarageArea 1\n"
     ]
    }
   ],
   "source": [
    "for col in df.columns:\n",
    "    null = df[col].isnull().sum()\n",
    "    if null != 0:\n",
    "        df = df[(df[col].notna()) | (df.index >= 1460)]\n",
    "        print(df[col].dtypes, col, null)"
   ]
  },
  {
   "cell_type": "code",
   "execution_count": 12,
   "id": "e0544ea6",
   "metadata": {},
   "outputs": [],
   "source": [
    "df = df.fillna(0)"
   ]
  },
  {
   "cell_type": "code",
   "execution_count": 66,
   "id": "92d4fa6d",
   "metadata": {},
   "outputs": [],
   "source": [
    "df_X = df[df.index < 1460]\n",
    "test = df[df.index >= 1460]\n",
    "full = pd.merge(left = df_X, right = y , left_index= True, right_index = True)\n",
    "train, dev = train_test_split(full, test_size=0.01)\n",
    "\n",
    "train_y = np.log(train['SalePrice'])\n",
    "train_X = train.drop(['SalePrice'],axis=1)\n",
    "\n",
    "dev_y = np.log(dev['SalePrice'])\n",
    "dev_X = dev.drop(['SalePrice'],axis=1)"
   ]
  },
  {
   "cell_type": "code",
   "execution_count": 67,
   "id": "23a285cc",
   "metadata": {},
   "outputs": [],
   "source": [
    "# rfmodel = RandomForestRegressor(n_jobs=-1)\n",
    "# rfparams = {\n",
    "#     'max_depth' : [26],\n",
    "#     'n_estimators' : [1000],\n",
    "#     'min_samples_leaf':[4],\n",
    "#     'max_features': ['auto'],\n",
    "#     'oob_score' : [True],\n",
    "#     'min_samples_split' : [4],\n",
    "#     'ccp_alpha' : [0.00005],\n",
    "#     'max_samples' : [0.65]\n",
    "# }\n",
    "# rfgrid = GridSearchCV(estimator = rfmodel,verbose=4, param_grid = rfparams, cv = 10, scoring = 'neg_root_mean_squared_error')\n",
    "# rfgrid.fit(train_X,train_y)\n",
    "# print(rfgrid.best_params_)\n",
    "# print(rfgrid.best_score_)\n",
    "# print(rfgrid.score(dev_X,dev_y))\n",
    "# print(rfgrid.score(train_X,train_y))"
   ]
  },
  {
   "cell_type": "code",
   "execution_count": 68,
   "id": "ea5516b8",
   "metadata": {},
   "outputs": [
    {
     "data": {
      "text/plain": [
       "RandomForestRegressor(ccp_alpha=5e-05, max_depth=26, max_samples=0.6,\n",
       "                      min_samples_leaf=4, min_samples_split=4,\n",
       "                      n_estimators=5000, oob_score=True)"
      ]
     },
     "execution_count": 68,
     "metadata": {},
     "output_type": "execute_result"
    }
   ],
   "source": [
    "rfmodel = RandomForestRegressor(ccp_alpha= 0.00005, max_depth=26, max_features= 'auto', max_samples=0.6, min_samples_leaf= 4, min_samples_split= 4, n_estimators= 5000, oob_score= True)\n",
    "rfmodel.fit(train_X,train_y)"
   ]
  },
  {
   "cell_type": "code",
   "execution_count": 69,
   "id": "05fc21bd",
   "metadata": {},
   "outputs": [],
   "source": [
    "# xgbmodel = XGBRegressor(n_jobs=-1)\n",
    "# xgbparams = {\n",
    "#     'max_depth' : [3],\n",
    "#     'n_estimators' : [10000],\n",
    "#     'learning_rate' : [0.01],\n",
    "#     'colsample_bytree' : [0.6],\n",
    "#     'subsample':[0.65],\n",
    "#     'alpha' : [3],\n",
    "#     'lambda' : [3],\n",
    "# }\n",
    "# xgbgrid = GridSearchCV(estimator = xgbmodel,verbose=3, param_grid = xgbparams, cv = 5, scoring = 'neg_root_mean_squared_error')\n",
    "# xgbgrid.fit(train_X,train_y)\n",
    "# print(xgbgrid.best_params_)\n",
    "# print(xgbgrid.best_score_)\n",
    "# print(xgbgrid.score(dev_X,dev_y))\n",
    "# print(xgbgrid.score(train_X,train_y))"
   ]
  },
  {
   "cell_type": "code",
   "execution_count": 70,
   "id": "f1aea218",
   "metadata": {},
   "outputs": [
    {
     "data": {
      "text/plain": [
       "XGBRegressor(alpha=3, base_score=0.5, booster='gbtree', colsample_bylevel=1,\n",
       "             colsample_bynode=1, colsample_bytree=0.6, enable_categorical=False,\n",
       "             gamma=0, gpu_id=-1, importance_type=None,\n",
       "             interaction_constraints='', learning_rate=0.01, max_delta_step=0,\n",
       "             max_depth=3, min_child_weight=1, missing=nan,\n",
       "             monotone_constraints='()', n_estimators=10000, n_jobs=4,\n",
       "             num_parallel_tree=1, predictor='auto', random_state=0, reg_alpha=3,\n",
       "             reg_lambda=3, scale_pos_weight=1, subsample=0.65,\n",
       "             tree_method='exact', validate_parameters=1, verbosity=None)"
      ]
     },
     "execution_count": 70,
     "metadata": {},
     "output_type": "execute_result"
    }
   ],
   "source": [
    "xgbmodel = XGBRegressor(alpha= 3, colsample_bytree=0.6, reg_lambda=3, learning_rate= 0.01, max_depth=3, n_estimators=10000, subsample=0.65)\n",
    "xgbmodel.fit(train_X,train_y)"
   ]
  },
  {
   "cell_type": "code",
   "execution_count": 71,
   "id": "8a85ff2e",
   "metadata": {},
   "outputs": [],
   "source": [
    "# ridgemodel = Ridge()\n",
    "# ridgeparams = {\n",
    "#     'alpha' : [3]\n",
    "# }\n",
    "# ridgegrid = GridSearchCV(estimator = ridgemodel,verbose=3, param_grid = ridgeparams, cv = 10, scoring = 'neg_root_mean_squared_error')\n",
    "# ridgegrid.fit(train_X,train_y)\n",
    "# print(ridgegrid.best_params_)\n",
    "# print(ridgegrid.best_score_)\n",
    "# print(ridgegrid.score(dev_X,dev_y))\n",
    "# print(ridgegrid.score(train_X,train_y))"
   ]
  },
  {
   "cell_type": "code",
   "execution_count": 72,
   "id": "8bd4a8fe",
   "metadata": {},
   "outputs": [
    {
     "data": {
      "text/plain": [
       "Ridge(alpha=3)"
      ]
     },
     "execution_count": 72,
     "metadata": {},
     "output_type": "execute_result"
    }
   ],
   "source": [
    "ridgemodel = Ridge(alpha=3)\n",
    "ridgemodel.fit(train_X,train_y)"
   ]
  },
  {
   "cell_type": "code",
   "execution_count": 73,
   "id": "59c52ba2",
   "metadata": {},
   "outputs": [],
   "source": [
    "# svrmodel = SVR()\n",
    "# svrparams = {\n",
    "#     'C' : [35],\n",
    "#     'epsilon' : [0.008],\n",
    "#     'gamma' : [0.0008]\n",
    "# }\n",
    "# svrgrid = GridSearchCV(estimator = svrmodel,verbose=3, param_grid = svrparams, cv = 10, scoring = 'neg_root_mean_squared_error')\n",
    "# svrgrid.fit(train_X,train_y)\n",
    "# print(svrgrid.best_params_)\n",
    "# print(svrgrid.best_score_)\n",
    "# print(svrgrid.score(dev_X,dev_y))\n",
    "# print(svrgrid.score(train_X,train_y))"
   ]
  },
  {
   "cell_type": "code",
   "execution_count": 74,
   "id": "424712a7",
   "metadata": {},
   "outputs": [
    {
     "data": {
      "text/plain": [
       "SVR(C=35, epsilon=0.008, gamma=0.0008)"
      ]
     },
     "execution_count": 74,
     "metadata": {},
     "output_type": "execute_result"
    }
   ],
   "source": [
    "svrmodel = SVR(C=35,epsilon=0.008,gamma=0.0008)\n",
    "svrmodel.fit(train_X,train_y)"
   ]
  },
  {
   "cell_type": "code",
   "execution_count": 75,
   "id": "bff3920b",
   "metadata": {},
   "outputs": [],
   "source": [
    "# hubermodel = HuberRegressor()\n",
    "# huberparams = {\n",
    "#     'epsilon' : [5],\n",
    "#     'alpha' : [20],\n",
    "#     'max_iter' : [600],\n",
    "#     'fit_intercept' : [True]\n",
    "# }\n",
    "# hubergrid = GridSearchCV(estimator = hubermodel,verbose=3, param_grid = huberparams, cv = 10, scoring = 'neg_root_mean_squared_error')\n",
    "# hubergrid.fit(train_X,train_y)\n",
    "# print(hubergrid.best_params_)\n",
    "# print(hubergrid.best_score_)\n",
    "# print(hubergrid.score(dev_X,dev_y))\n",
    "# print(hubergrid.score(train_X,train_y))"
   ]
  },
  {
   "cell_type": "code",
   "execution_count": 76,
   "id": "c740672b",
   "metadata": {},
   "outputs": [
    {
     "data": {
      "text/plain": [
       "HuberRegressor(alpha=20, epsilon=5, max_iter=600)"
      ]
     },
     "execution_count": 76,
     "metadata": {},
     "output_type": "execute_result"
    }
   ],
   "source": [
    "hubermodel = HuberRegressor(alpha=20,epsilon=5,fit_intercept=True,max_iter=600)\n",
    "hubermodel.fit(train_X,train_y)"
   ]
  },
  {
   "cell_type": "code",
   "execution_count": 77,
   "id": "2833029f",
   "metadata": {},
   "outputs": [],
   "source": [
    "# lightgbm = LGBMRegressor(objective='regression')\n",
    "# lightgbmparams = {\n",
    "#     'learning_rate' :[0.0005], \n",
    "#     'n_estimators' : [50000],\n",
    "#     'reg_alpha' : [2],\n",
    "#     'reg_lambda' : [2],\n",
    "#     'max_depth' : [3],\n",
    "#     'min_split_gain' : [0.005],\n",
    "#     'subsample' : [0.7],\n",
    "#     'colsample_bytree' : [0.7],\n",
    "#     'extra_trees' : [True]\n",
    "# }\n",
    "# lightgbmgrid = GridSearchCV(estimator = lightgbm,verbose=3, param_grid = lightgbmparams, cv = 10, scoring = 'neg_root_mean_squared_error')\n",
    "# lightgbmgrid.fit(train_X,train_y)\n",
    "# print(lightgbmgrid.best_params_)\n",
    "# print(lightgbmgrid.best_score_)\n",
    "# print(lightgbmgrid.score(dev_X,dev_y))\n",
    "# print(lightgbmgrid.score(train_X,train_y))"
   ]
  },
  {
   "cell_type": "code",
   "execution_count": 78,
   "id": "d66e2057",
   "metadata": {},
   "outputs": [
    {
     "data": {
      "text/plain": [
       "LGBMRegressor(colsample_bytree=0.7, extra_trees=True, learning_rate=0.0005,\n",
       "              max_depth=3, min_split_gain=0.005, n_estimators=50000,\n",
       "              objective='regression', reg_alpha=2, reg_lambda=2, subsample=0.7)"
      ]
     },
     "execution_count": 78,
     "metadata": {},
     "output_type": "execute_result"
    }
   ],
   "source": [
    "lightgbm = LGBMRegressor(objective='regression',learning_rate=0.0005, \n",
    "    n_estimators=50000,\n",
    "    reg_alpha=2,\n",
    "    reg_lambda=2,\n",
    "    max_depth=3,\n",
    "    min_split_gain=0.005,\n",
    "    subsample=0.7,\n",
    "    colsample_bytree=0.7,\n",
    "    extra_trees=True)\n",
    "lightgbm.fit(train_X, train_y)"
   ]
  },
  {
   "cell_type": "code",
   "execution_count": 79,
   "id": "c48333d4",
   "metadata": {},
   "outputs": [],
   "source": [
    "# cbmodel = cb.CatBoostRegressor(objective='regression',\n",
    "#                                loss_function='RMSE')\n",
    "# cbparams = {\n",
    "# 'colsample_bylevel':[0.5], \n",
    "# 'depth':[2], \n",
    "# 'l2_leaf_reg':[50], \n",
    "# 'learning_rate':[0.005], \n",
    "# 'n_estimators':[15000], \n",
    "# 'subsample':[0.5]\n",
    "# }\n",
    "\n",
    "# cbgrid = GridSearchCV(estimator = cbmodel,verbose=3, param_grid = cbparams, cv = 10, scoring = 'neg_root_mean_squared_error')\n",
    "# cbgrid.fit(train_X,train_y)\n",
    "# print(cbgrid.best_params_)\n",
    "# print(cbgrid.best_score_)\n",
    "# print(cbgrid.score(dev_X,dev_y))\n",
    "# print(cbgrid.score(train_X,train_y))"
   ]
  },
  {
   "cell_type": "code",
   "execution_count": 80,
   "id": "cfdf1c58",
   "metadata": {},
   "outputs": [
    {
     "data": {
      "text/plain": [
       "<catboost.core.CatBoostRegressor at 0x7ff6c24bc520>"
      ]
     },
     "execution_count": 80,
     "metadata": {},
     "output_type": "execute_result"
    }
   ],
   "source": [
    "cbmodel = cb.CatBoostRegressor(loss_function='RMSE',colsample_bylevel=0.5, depth=2, l2_leaf_reg=50, learning_rate=0.005, n_estimators=15000, subsample=0.5,verbose=False)\n",
    "cbmodel.fit(train_X, train_y)"
   ]
  },
  {
   "cell_type": "code",
   "execution_count": 81,
   "id": "863f86c1",
   "metadata": {},
   "outputs": [
    {
     "name": "stdout",
     "output_type": "stream",
     "text": [
      "0.07420638527306428\n",
      "0.08137649853418003\n"
     ]
    }
   ],
   "source": [
    "stackmodel = StackingCVRegressor(regressors=(ridgemodel, xgbmodel, rfmodel, hubermodel, cbmodel),\n",
    "                                meta_regressor=cbmodel,\n",
    "                                use_features_in_secondary=True)\n",
    "stackmodel.fit(np.array(train_X), np.array(train_y))\n",
    "stackpred = stackmodel.predict(np.array(dev_X))\n",
    "stackfit = stackmodel.predict(np.array(train_X))\n",
    "\n",
    "print(mean_squared_error(dev_y,stackpred, squared=False))\n",
    "print(mean_squared_error(train_y,stackfit, squared=False))"
   ]
  },
  {
   "cell_type": "code",
   "execution_count": 82,
   "id": "b942d999",
   "metadata": {},
   "outputs": [
    {
     "name": "stdout",
     "output_type": "stream",
     "text": [
      "RandomForestRegressor(ccp_alpha=5e-05, max_depth=26, max_samples=0.6,\n",
      "                      min_samples_leaf=4, min_samples_split=4,\n",
      "                      n_estimators=5000, oob_score=True)\n",
      "0.08389818448909904\n",
      "0.10339154809503268\n",
      "\n",
      "\n",
      "XGBRegressor(alpha=3, base_score=0.5, booster='gbtree', colsample_bylevel=1,\n",
      "             colsample_bynode=1, colsample_bytree=0.6, enable_categorical=False,\n",
      "             gamma=0, gpu_id=-1, importance_type=None,\n",
      "             interaction_constraints='', learning_rate=0.01, max_delta_step=0,\n",
      "             max_depth=3, min_child_weight=1, missing=nan,\n",
      "             monotone_constraints='()', n_estimators=10000, n_jobs=4,\n",
      "             num_parallel_tree=1, predictor='auto', random_state=0, reg_alpha=3,\n",
      "             reg_lambda=3, scale_pos_weight=1, subsample=0.65,\n",
      "             tree_method='exact', validate_parameters=1, verbosity=None)\n",
      "0.08146796483873352\n",
      "0.08839096795045753\n",
      "\n",
      "\n",
      "StackingCVRegressor(meta_regressor=<catboost.core.CatBoostRegressor object at 0x7ff6c24bc520>,\n",
      "                    regressors=(Ridge(alpha=3),\n",
      "                                XGBRegressor(alpha=3, base_score=0.5,\n",
      "                                             booster='gbtree',\n",
      "                                             colsample_bylevel=1,\n",
      "                                             colsample_bynode=1,\n",
      "                                             colsample_bytree=0.6,\n",
      "                                             enable_categorical=False, gamma=0,\n",
      "                                             gpu_id=-1, importance_type=None,\n",
      "                                             interaction_constraints='',\n",
      "                                             learning_rate=0.01,\n",
      "                                             max_delta...\n",
      "                                             scale_pos_weight=1, subsample=0.65,\n",
      "                                             tree_method='exact',\n",
      "                                             validate_parameters=1,\n",
      "                                             verbosity=None),\n",
      "                                RandomForestRegressor(ccp_alpha=5e-05,\n",
      "                                                      max_depth=26,\n",
      "                                                      max_samples=0.6,\n",
      "                                                      min_samples_leaf=4,\n",
      "                                                      min_samples_split=4,\n",
      "                                                      n_estimators=5000,\n",
      "                                                      oob_score=True),\n",
      "                                HuberRegressor(alpha=20, epsilon=5,\n",
      "                                               max_iter=600),\n",
      "                                <catboost.core.CatBoostRegressor object at 0x7ff6c24bc520>),\n",
      "                    use_features_in_secondary=True)\n",
      "0.07420638527306428\n",
      "0.08137649853418003\n",
      "\n",
      "\n",
      "Ridge(alpha=3)\n",
      "0.08143491143982384\n",
      "0.11540339868661859\n",
      "\n",
      "\n",
      "LGBMRegressor(colsample_bytree=0.7, extra_trees=True, learning_rate=0.0005,\n",
      "              max_depth=3, min_split_gain=0.005, n_estimators=50000,\n",
      "              objective='regression', reg_alpha=2, reg_lambda=2, subsample=0.7)\n",
      "0.06920847796290844\n",
      "0.11515476433689929\n",
      "\n",
      "\n",
      "HuberRegressor(alpha=20, epsilon=5, max_iter=600)\n",
      "0.08014247603046581\n",
      "0.11513825219097677\n",
      "\n",
      "\n",
      "<catboost.core.CatBoostRegressor object at 0x7ff6c24bc520>\n",
      "0.07397080319247581\n",
      "0.09718671477386526\n",
      "\n",
      "\n"
     ]
    }
   ],
   "source": [
    "for i in [rfmodel,xgbmodel,stackmodel,ridgemodel,lightgbm,hubermodel,cbmodel]:\n",
    "    print(i)\n",
    "    print(mean_squared_error(dev_y,i.predict(dev_X), squared=False))\n",
    "    print(mean_squared_error(train_y,i.predict(train_X), squared=False))\n",
    "    print(\"\\n\")"
   ]
  },
  {
   "cell_type": "code",
   "execution_count": 83,
   "id": "c4ae9231",
   "metadata": {},
   "outputs": [
    {
     "name": "stdout",
     "output_type": "stream",
     "text": [
      "0.07346686837889324\n"
     ]
    }
   ],
   "source": [
    "pred = (rfmodel.predict(dev_X) + xgbmodel.predict(dev_X) +  stackmodel.predict(dev_X) + ridgemodel.predict(dev_X) + lightgbm.predict(dev_X) + hubermodel.predict(dev_X) + cbmodel.predict(dev_X)) / 7\n",
    "print(mean_squared_error(dev_y,pred, squared=False))"
   ]
  },
  {
   "cell_type": "code",
   "execution_count": 84,
   "id": "85da3f2e",
   "metadata": {},
   "outputs": [
    {
     "name": "stdout",
     "output_type": "stream",
     "text": [
      "0.09435213353346968\n"
     ]
    }
   ],
   "source": [
    "fit = (rfmodel.predict(train_X) + xgbmodel.predict(train_X) + lightgbm.predict(train_X) +   stackmodel.predict(train_X) + ridgemodel.predict(train_X) + hubermodel.predict(train_X) + cbmodel.predict(train_X)) / 7\n",
    "print(mean_squared_error(train_y,fit, squared=False))"
   ]
  },
  {
   "cell_type": "code",
   "execution_count": 85,
   "id": "3bc3ebb3",
   "metadata": {},
   "outputs": [],
   "source": [
    "final_prediction = (np.exp(ridgemodel.predict(test))+ 2 * np.exp(xgbmodel.predict(test)) \\\n",
    " + np.exp(rfmodel.predict(test)) + 2 * np.exp(stackmodel.predict(test)) \\\n",
    " + np.exp(hubermodel.predict(test)) + 2 * np.exp(lightgbm.predict(test)) + 2 * np.exp(cbmodel.predict(test))) / 11 "
   ]
  },
  {
   "cell_type": "code",
   "execution_count": 86,
   "id": "4cd64f71",
   "metadata": {},
   "outputs": [],
   "source": [
    "submission = pd.DataFrame(final_prediction, index = test.index)"
   ]
  },
  {
   "cell_type": "code",
   "execution_count": 87,
   "id": "f9517448",
   "metadata": {},
   "outputs": [],
   "source": [
    "submission.index = submission.index + 1\n",
    "submission.reset_index(drop=False, inplace = True)\n",
    "submission = submission.rename(columns={0 : 'SalePrice', 'index' : 'Id'})\n",
    "submission.to_csv('submission_v6.csv', index=False)"
   ]
  }
 ],
 "metadata": {
  "kernelspec": {
   "display_name": "Python 3 (ipykernel)",
   "language": "python",
   "name": "python3"
  },
  "language_info": {
   "codemirror_mode": {
    "name": "ipython",
    "version": 3
   },
   "file_extension": ".py",
   "mimetype": "text/x-python",
   "name": "python",
   "nbconvert_exporter": "python",
   "pygments_lexer": "ipython3",
   "version": "3.8.10"
  }
 },
 "nbformat": 4,
 "nbformat_minor": 5
}
